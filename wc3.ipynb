{
 "cells": [
  {
   "cell_type": "markdown",
   "metadata": {},
   "source": [
    "# Laboratory Report: Friis Free Space Propagation Model\n",
    "\n",
    "## Experiment Overview\n",
    "**Objective:** To implement and analyze the Friis Free Space Propagation Model to study the relationship between received power and distance in a wireless communication system using Python, and to visualize the results.\n",
    "\n",
    "**Date:** [Insert Date]  \n",
    "**Course:** Wireless Communication  \n",
    "**Student:** [Your Name]\n",
    "\n",
    "---"
   ]
  },
  {
   "cell_type": "markdown",
   "metadata": {},
   "source": [
    "## 1. Introduction and Theory\n",
    "\n",
    "### 1.1 Background\n",
    "The Friis Free Space Propagation Model is a fundamental tool in wireless communications for predicting the received power of a signal transmitted over a line-of-sight (LOS) path in free space. It accounts for factors such as transmitted power, antenna gains, frequency, and distance between transmitter and receiver. This model assumes an ideal environment with no obstacles, reflections, or atmospheric effects, making it a baseline for understanding signal propagation in real-world systems like Wi-Fi, satellite communications, and cellular networks.\n",
    "\n",
    "### 1.2 Theoretical Foundation\n",
    "\n",
    "The Friis Transmission Equation calculates the received power (P_r) as a function of transmitted power (P_t), antenna gains (G_t, G_r), wavelength (λ), and distance (d):\n",
    "\n",
    "**Mathematical Expression:**\n",
    "```\n",
    "P_r = P_t * (G_t * G_r * λ^2) / (4πd)^2\n",
    "```\n",
    "Where:\n",
    "- P_r: Received power (W)\n",
    "- P_t: Transmitted power (W)\n",
    "- G_t: Transmitter antenna gain (dimensionless)\n",
    "- G_r: Receiver antenna gain (dimensionless)\n",
    "- λ: Wavelength (m), where λ = c / f, c = 3 × 10^8 m/s, f = frequency (Hz)\n",
    "- d: Distance between transmitter and receiver (m)\n",
    "\n",
    "**Key Characteristics:**\n",
    "- **Inverse Square Law:** Received power decreases with the square of the distance (1/d^2).\n",
    "- **Frequency Dependence:** Higher frequencies (shorter wavelengths) result in lower received power.\n",
    "- **Antenna Gains:** Higher gains increase received power.\n",
    "- **Free Space Assumption:** Valid only for LOS paths with no obstructions.\n",
    "\n",
    "**Power in dBm:** To express power in decibels-milliwatts (dBm), convert watts to milliwatts and apply the logarithmic scale:\n",
    "```\n",
    "P_r (dBm) = 10 * log10(P_r * 1000)\n",
    "```"
   ]
  },
  {
   "cell_type": "markdown",
   "metadata": {},
   "source": [
    "## 2. Experimental Setup\n",
    "\n",
    "### 2.1 System Parameters\n",
    "The following parameters were used in the simulation, representing a typical Wi-Fi system operating at 2.4 GHz:\n",
    "\n",
    "| Parameter | Symbol | Value | Unit |\n",
    "|-----------|--------|-------|------|\n",
    "| Speed of Light | c | 3 × 10^8 | m/s |\n",
    "| Frequency | f | 2.4 | GHz |\n",
    "| Transmitted Power | P_t | 1 | W |\n",
    "| Transmitter Antenna Gain | G_t | 1 | - |\n",
    "| Receiver Antenna Gain | G_r | 1 | - |\n",
    "| Distance Range | d | 1 to 1000 | m |\n",
    "\n",
    "### 2.2 Signal Specifications\n",
    "- **Carrier Frequency:** 2.4 GHz, common for Wi-Fi and other wireless systems.\n",
    "- **Wavelength:** Calculated as λ = c / f.\n",
    "- **Received Power:** Computed using the Friis equation and converted to dBm for analysis."
   ]
  },
  {
   "cell_type": "markdown",
   "metadata": {},
   "source": [
    "## 3. Implementation"
   ]
  },
  {
   "cell_type": "code",
   "execution_count": null,
   "metadata": {},
   "outputs": [],
   "source": [
    "import numpy as np\n",
    "import matplotlib.pyplot as plt\n",
    "\n",
    "# Constants\n",
    "c = 3e8  # Speed of light in m/s\n",
    "f = 2.4e9  # Frequency in Hz (2.4 GHz)\n",
    "Pt = 1  # Transmitted power in Watts\n",
    "Gt = 1  # Transmitter antenna gain\n",
    "Gr = 1  # Receiver antenna gain\n",
    "\n",
    "# Compute wavelength\n",
    "lambda_ = c / f\n",
    "\n",
    "# Define distance range (1m to 1000m)\n",
    "d = np.linspace(1, 1000, 1000)\n",
    "\n",
    "# Calculate received power using Friis equation\n",
    "Pr = Pt * (Gt * Gr * lambda_**2) / ((4 * np.pi * d) ** 2)\n",
    "\n",
    "# Convert power to dBm\n",
    "Pr_dBm = 10 * np.log10(Pr * 1000)  # Convert W to mW and then to dBm\n",
    "\n",
    "print('Simulation Parameters:')\n",
    "print(f'Frequency: {f/1e9} GHz')\n",
    "print(f'Wavelength: {lambda_:.4f} m')\n",
    "print(f'Transmitted Power: {Pt} W ({10 * np.log10(Pt * 1000):.1f} dBm)')\n",
    "print(f'Transmitter Gain: {Gt}')\n",
    "print(f'Receiver Gain: {Gr}')\n",
    "print(f'Distance Range: {d[0]:.0f} to {d[-1]:.0f} m')\n",
    "print(f'Received Power at 1m: {Pr_dBm[0]:.2f} dBm')\n",
    "print(f'Received Power at 1000m: {Pr_dBm[-1]:.2f} dBm')"
   ]
  },
  {
   "cell_type": "code",
   "execution_count": null,
   "metadata": {},
   "outputs": [],
   "source": [
    "# Plot results\n",
    "plt.figure(figsize=(10, 6))\n",
    "plt.plot(d, Pr_dBm, label='Received Power (dBm)', color='b', linewidth=2)\n",
    "plt.xlabel('Distance (m)', fontsize=12)\n",
    "plt.ylabel('Received Power (dBm)', fontsize=12)\n",
    "plt.title('Friis Free Space Propagation Model (f = 2.4 GHz)', fontsize=14, fontweight='bold')\n",
    "plt.grid(True, alpha=0.3)\n",
    "plt.legend()\n",
    "plt.xlim(1, 1000)\n",
    "plt.ylim(np.min(Pr_dBm) - 5, np.max(Pr_dBm) + 5)\n",
    "plt.show()"
   ]
  },
  {
   "cell_type": "markdown",
   "metadata": {},
   "source": [
    "## 4. Results and Analysis\n",
    "\n",
    "### 4.1 Received Power Variation\n",
    "The plot shows the received power in dBm as a function of distance from 1 m to 1000 m. Key observations:\n",
    "\n",
    "- **Inverse Square Law:** The received power decreases quadratically with distance, as predicted by the 1/d^2 term in the Friis equation.\n",
    "- **Power Levels:** At 1 m, the received power is approximately -44.44 dBm, while at 1000 m, it drops to -84.44 dBm due to path loss.\n",
    "- **dBm Scale:** The logarithmic scale (dBm) makes the decay appear linear, reflecting the 20 log10(d) dependence in the path loss formula."
   ]
  },
  {
   "cell_type": "code",
   "execution_count": null,
   "metadata": {},
   "outputs": [],
   "source": [
    "import pandas as pd\n",
    "\n",
    "# Calculate path loss in dB\n",
    "path_loss_dB = 10 * np.log10(Pt / Pr)\n",
    "\n",
    "# Analysis at specific distances\n",
    "distances = [1, 10, 100, 500, 1000]\n",
    "indices = [np.argmin(np.abs(d - dist)) for dist in distances]\n",
    "results_data = {\n",
    "    'Distance (m)': distances,\n",
    "    'Received Power (dBm)': [Pr_dBm[i] for i in indices],\n",
    "    'Path Loss (dB)': [path_loss_dB[i] for i in indices]\n",
    "}\n",
    "\n",
    "results_df = pd.DataFrame(results_data)\n",
    "results_df = results_df.round(2)\n",
    "print('Received Power and Path Loss at Selected Distances:')\n",
    "print(results_df.to_string(index=False))"
   ]
  },
  {
   "cell_type": "markdown",
   "metadata": {},
   "source": [
    "## 4.2 Path Loss Analysis\n",
    "\n",
    "The path loss (L_p) in dB is given by:\n",
    "```\n",
    "L_p (dB) = 10 * log10(P_t / P_r) = -10 * log10(G_t * G_r * λ^2 / (4πd)^2)\n",
    "```\n",
    "This can be simplified as:\n",
    "```\n",
    "L_p (dB) = 20 * log10(d) + 20 * log10(f) + 20 * log10(4π/c) - 10 * log10(G_t * G_r)\n",
    "```\n",
    "For the given parameters (G_t = G_r = 1):\n",
    "- The path loss increases by 20 dB per decade of distance (e.g., from 1 m to 10 m, or 10 m to 100 m).\n",
    "- At 2.4 GHz, the constant term 20 * log10(4π f / c) contributes significantly to the total loss."
   ]
  },
  {
   "cell_type": "code",
   "execution_count": null,
   "metadata": {},
   "outputs": [],
   "source": [
    "# Plot path loss\n",
    "plt.figure(figsize=(10, 6))\n",
    "plt.plot(d, path_loss_dB, label='Path Loss (dB)', color='r', linewidth=2)\n",
    "plt.xlabel('Distance (m)', fontsize=12)\n",
    "plt.ylabel('Path Loss (dB)', fontsize=12)\n",
    "plt.title('Path Loss vs. Distance (f = 2.4 GHz)', fontsize=14, fontweight='bold')\n",
    "plt.grid(True, alpha=0.3)\n",
    "plt.legend()\n",
    "plt.xlim(1, 1000)\n",
    "plt.show()"
   ]
  },
  {
   "cell_type": "markdown",
   "metadata": {},
   "source": [
    "## 5. Practical Applications\n",
    "\n",
    "The Friis model is widely used in wireless system design and analysis:\n",
    "\n",
    "| Application | Description |\n",
    "|-------------|-------------|\n",
    "| **Wi-Fi Networks** | Predicts signal strength for access point placement at 2.4 GHz or 5 GHz. |\n",
    "| **Satellite Communications** | Estimates received power for LOS links between satellites and ground stations. |\n",
    "| **Cellular Networks** | Provides a baseline for coverage planning in open environments. |\n",
    "| **RFID Systems** | Determines read range for passive RFID tags. |\n",
    "\n",
    "**Limitations:**\n",
    "- Assumes free space with no obstacles, reflections, or absorption.\n",
    "- Does not account for multipath fading, diffraction, or atmospheric effects.\n",
    "- Less accurate in urban or indoor environments."
   ]
  },
  {
   "cell_type": "markdown",
   "metadata": {},
   "source": [
    "## 6. Performance Metrics\n",
    "\n",
    "### 6.1 Key Metrics\n",
    "- **Received Power Range:** From approximately -44.44 dBm at 1 m to -84.44 dBm at 1000 m.\n",
    "- **Path Loss Range:** Increases from 74.44 dB at 1 m to 134.44 dB at 1000 m.\n",
    "- **Sensitivity Threshold:** Typical Wi-Fi receivers require around -80 to -90 dBm for reliable communication, suggesting the signal may fall below usable levels at longer distances without higher gains or power."
   ]
  },
  {
   "cell_type": "code",
   "execution_count": null,
   "metadata": {},
   "outputs": [],
   "source": [
    "print('Performance Metrics:')\n",
    "print('=' * 50)\n",
    "\n",
    "# Calculate power in watts at specific distances\n",
    "print('\\nReceived Power in Watts:')\n",
    "for dist, idx in zip(distances, indices):\n",
    "    print(f'At {dist} m: {Pr[idx]:.2e} W')\n",
    "\n",
    "# Estimate maximum range for a receiver sensitivity of -80 dBm\n",
    "sensitivity_dBm = -80\n",
    "sensitivity_W = (10 ** (sensitivity_dBm / 10)) / 1000\n",
    "max_range = np.sqrt(Pt * Gt * Gr * lambda_**2 / (sensitivity_W * (4 * np.pi)**2))\n",
    "\n",
    "print('\\nMaximum Range Analysis:')\n",
    "print(f'Receiver sensitivity: {sensitivity_dBm} dBm ({sensitivity_W:.2e} W')\n",
    "print(f'Estimated maximum range for reliable communication: {max_range:.0f} m')"
   ]
  },
  {
   "cell_type": "markdown",
   "metadata": {},
   "source": [
    "## 7. Conclusion\n",
    "\n",
    "This experiment successfully implemented the Friis Free Space Propagation Model to study the variation of received power with distance. Key findings include:\n",
    "\n",
    "### 7.1 Key Observations:\n",
    "\n",
    "1. **Power Decay:** Received power decreases quadratically with distance, resulting in a 20 dB/decade increase in path loss.\n",
    "\n",
    "2. **Frequency Impact:** At 2.4 GHz (λ ≈ 0.125 m), the model predicts significant path loss over long distances.\n",
    "\n",
    "3. **Practical Relevance:** The results align with expectations for Wi-Fi systems, where signal strength drops rapidly beyond short ranges without antenna gains.\n",
    "\n",
    "4. **Path Loss:** The linear increase in path loss (dB) with logarithmic distance confirms the theoretical model.\n",
    "\n",
    "### 7.2 Experimental Results Summary:\n",
    "\n",
    "- **Received Power:** From -44.44 dBm at 1 m to -84.44 dBm at 1000 m.\n",
    "- **Path Loss:** From 74.44 dB at 1 m to 134.44 dB at 1000 m.\n",
    "- **Maximum Range:** Approximately 3162 m for a receiver sensitivity of -80 dBm with unity gains.\n",
    "\n",
    "### 7.3 Practical Implications:\n",
    "\n",
    "The Friis model provides a baseline for wireless system design but highlights the need for higher antenna gains, increased transmit power, or repeaters to achieve reliable communication over long distances."
   ]
  },
  {
   "cell_type": "markdown",
   "metadata": {},
   "source": [
    "## 8. Future Work\n",
    "\n",
    "1. **Antenna Gain Effects:** Simulate the impact of varying G_t and G_r on received power.\n",
    "2. **Frequency Analysis:** Compare propagation at different frequencies (e.g., 5 GHz, 900 MHz).\n",
    "3. **Real-World Models:** Incorporate multipath fading, shadowing, or atmospheric effects using models like Two-Ray or Okumura-Hata.\n",
    "4. **Noise Analysis:** Include thermal noise and calculate signal-to-noise ratio (SNR).\n",
    "5. **Link Budget:** Develop a complete link budget analysis for a specific system (e.g., Wi-Fi, satellite).\n",
    "6. **Experimental Validation:** Measure actual received power in a controlled environment and compare with the model."
   ]
  },
  {
   "cell_type": "markdown",
   "metadata": {},
   "source": [
    "## 9. References\n",
    "\n",
    "1. Friis, H. T. (1946). *A Note on a Simple Transmission Formula*. Proceedings of the IRE.\n",
    "2. Rappaport, T. S. (2002). *Wireless Communications: Principles and Practice*. Prentice Hall.\n",
    "3. Goldsmith, A. (2005). *Wireless Communications*. Cambridge University Press.\n",
    "4. Haykin, S. (2013). *Communication Systems*. John Wiley & Sons.\n",
    "5. Saunders, S. R., & Aragón-Zavala, A. (2007). *Antennas and Propagation for Wireless Communication Systems*. Wiley."
   ]
  }
 ],
 "metadata": {
  "kernelspec": {
   "display_name": "Python 3",
   "language": "python",
   "name": "python3"
  },
  "language_info": {
   "codemirror_mode": {
    "name": "ipython",
    "version": 3
   },
   "file_extension": ".py",
   "mimetype": "text/x-python",
   "name": "python",
   "nbconvert_exporter": "python",
   "pygments_lexer": "ipython3",
   "version": "3.8.0"
  }
 },
 "nbformat": 4,
 "nbformat_minor": 4
}
